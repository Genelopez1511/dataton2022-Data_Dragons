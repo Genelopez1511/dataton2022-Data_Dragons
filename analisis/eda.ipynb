{
 "cells": [
  {
   "cell_type": "markdown",
   "metadata": {},
   "source": [
    "# Exploratory Data Analysis"
   ]
  },
  {
   "cell_type": "code",
   "execution_count": 2,
   "metadata": {
    "notebookRunGroups": {
     "groupValue": ""
    }
   },
   "outputs": [],
   "source": [
    "# Importación de librerias necesarias para el EDA\n",
    "import pandas as pd"
   ]
  },
  {
   "cell_type": "code",
   "execution_count": 3,
   "metadata": {},
   "outputs": [],
   "source": [
    "# Importación de datasets al Notebook\n",
    "\n",
    "data_clientes = pd.read_csv(\"dataset/clientes.csv\")\n",
    "data_clientes_noticias = pd.read_csv(\"dataset/clientes_noticias.csv\")\n",
    "data_noticias = pd.read_csv(\"dataset/noticias.csv\")"
   ]
  },
  {
   "cell_type": "code",
   "execution_count": 4,
   "metadata": {},
   "outputs": [
    {
     "name": "stdout",
     "output_type": "stream",
     "text": [
      "<class 'pandas.core.frame.DataFrame'>\n",
      "RangeIndex: 1507 entries, 0 to 1506\n",
      "Data columns (total 6 columns):\n",
      " #   Column              Non-Null Count  Dtype \n",
      "---  ------              --------------  ----- \n",
      " 0   nit                 1507 non-null   int64 \n",
      " 1   nombre              1507 non-null   object\n",
      " 2   desc_ciiu_division  1507 non-null   object\n",
      " 3   desc_ciuu_grupo     1507 non-null   object\n",
      " 4   desc_ciiuu_clase    1507 non-null   object\n",
      " 5   subsec              1507 non-null   object\n",
      "dtypes: int64(1), object(5)\n",
      "memory usage: 70.8+ KB\n"
     ]
    }
   ],
   "source": [
    "data_clientes.info()"
   ]
  },
  {
   "cell_type": "code",
   "execution_count": 5,
   "metadata": {},
   "outputs": [
    {
     "name": "stdout",
     "output_type": "stream",
     "text": [
      "<class 'pandas.core.frame.DataFrame'>\n",
      "RangeIndex: 74709 entries, 0 to 74708\n",
      "Data columns (total 5 columns):\n",
      " #   Column             Non-Null Count  Dtype \n",
      "---  ------             --------------  ----- \n",
      " 0   nit                74709 non-null  int64 \n",
      " 1   news_id            74709 non-null  object\n",
      " 2   news_url_absolute  74709 non-null  object\n",
      " 3   news_init_date     74709 non-null  object\n",
      " 4   news_final_date    74709 non-null  object\n",
      "dtypes: int64(1), object(4)\n",
      "memory usage: 2.9+ MB\n"
     ]
    }
   ],
   "source": [
    "data_clientes_noticias.info()"
   ]
  },
  {
   "cell_type": "code",
   "execution_count": 6,
   "metadata": {},
   "outputs": [
    {
     "name": "stdout",
     "output_type": "stream",
     "text": [
      "<class 'pandas.core.frame.DataFrame'>\n",
      "RangeIndex: 23377 entries, 0 to 23376\n",
      "Data columns (total 6 columns):\n",
      " #   Column             Non-Null Count  Dtype \n",
      "---  ------             --------------  ----- \n",
      " 0   news_id            23377 non-null  object\n",
      " 1   news_url_absolute  23377 non-null  object\n",
      " 2   news_init_date     23377 non-null  object\n",
      " 3   news_final_date    23377 non-null  object\n",
      " 4   news_title         23377 non-null  object\n",
      " 5   news_text_content  23377 non-null  object\n",
      "dtypes: object(6)\n",
      "memory usage: 1.1+ MB\n"
     ]
    }
   ],
   "source": [
    "data_noticias.info()"
   ]
  }
 ],
 "metadata": {
  "kernelspec": {
   "display_name": "Python 3.10.8 64-bit",
   "language": "python",
   "name": "python3"
  },
  "language_info": {
   "codemirror_mode": {
    "name": "ipython",
    "version": 3
   },
   "file_extension": ".py",
   "mimetype": "text/x-python",
   "name": "python",
   "nbconvert_exporter": "python",
   "pygments_lexer": "ipython3",
   "version": "3.10.8"
  },
  "orig_nbformat": 4,
  "vscode": {
   "interpreter": {
    "hash": "e7370f93d1d0cde622a1f8e1c04877d8463912d04d973331ad4851f04de6915a"
   }
  }
 },
 "nbformat": 4,
 "nbformat_minor": 2
}
